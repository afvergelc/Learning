{
 "cells": [
  {
   "cell_type": "markdown",
   "id": "12524e0f",
   "metadata": {},
   "source": [
    "# Day 1\n"
   ]
  },
  {
   "cell_type": "markdown",
   "id": "ec45f9e8",
   "metadata": {},
   "source": [
    "This day we learn the basics, just printing basic sentences in python."
   ]
  },
  {
   "cell_type": "markdown",
   "id": "683f0cf9",
   "metadata": {},
   "source": [
    "## Print Function"
   ]
  },
  {
   "cell_type": "code",
   "execution_count": 1,
   "id": "815957b8",
   "metadata": {},
   "outputs": [
    {
     "name": "stdout",
     "output_type": "stream",
     "text": [
      "Hello world\n"
     ]
    }
   ],
   "source": [
    "print('Hello world')"
   ]
  },
  {
   "cell_type": "markdown",
   "id": "37c1bd74",
   "metadata": {},
   "source": [
    "We have different types of data, strings, floats, booleans, integers and so on. As a learner you should use pages as Stackoverflow to solve common issues that someone, somwhere already solve. "
   ]
  },
  {
   "cell_type": "markdown",
   "id": "dad80f6d",
   "metadata": {},
   "source": [
    "To add an space when you print something, use \\n"
   ]
  },
  {
   "cell_type": "code",
   "execution_count": 3,
   "id": "4348c42a",
   "metadata": {},
   "outputs": [
    {
     "name": "stdout",
     "output_type": "stream",
     "text": [
      " This is a test. \n",
      " This is a second line. \n",
      " This is a third line.\n"
     ]
    }
   ],
   "source": [
    "print(\" This is a test. \\n This is a second line. \\n This is a third line.\")"
   ]
  },
  {
   "cell_type": "markdown",
   "id": "5347ca3a",
   "metadata": {},
   "source": [
    "Concatenate is another tool to combine strings. \"+\" combine the strings"
   ]
  },
  {
   "cell_type": "code",
   "execution_count": 4,
   "id": "40710b8a",
   "metadata": {},
   "outputs": [
    {
     "name": "stdout",
     "output_type": "stream",
     "text": [
      "Hello World\n"
     ]
    }
   ],
   "source": [
    "print('Hello' + ' ' + 'World')"
   ]
  },
  {
   "cell_type": "markdown",
   "id": "ea183a83",
   "metadata": {},
   "source": [
    "## Input Function"
   ]
  },
  {
   "cell_type": "markdown",
   "id": "ebc46649",
   "metadata": {},
   "source": [
    "It allows to interact with the user. "
   ]
  },
  {
   "cell_type": "code",
   "execution_count": 5,
   "id": "4c2aac06",
   "metadata": {},
   "outputs": [
    {
     "data": {
      "text/plain": [
       "'Andrés'"
      ]
     },
     "execution_count": 5,
     "metadata": {},
     "output_type": "execute_result"
    }
   ],
   "source": [
    "input('What is yout name? ')"
   ]
  },
  {
   "cell_type": "markdown",
   "id": "3c6b80ef",
   "metadata": {},
   "source": [
    "You should create a variable if you want to save the input- \"f\" At beggining allows to use variables in print function. "
   ]
  },
  {
   "cell_type": "code",
   "execution_count": 8,
   "id": "bbc11c31",
   "metadata": {},
   "outputs": [
    {
     "name": "stdout",
     "output_type": "stream",
     "text": [
      "Hello Andrés!\n"
     ]
    }
   ],
   "source": [
    "name = input('What is yout name? ')\n",
    "print(f'Hello ' + name + '!')"
   ]
  },
  {
   "cell_type": "markdown",
   "id": "7273760d",
   "metadata": {},
   "source": [
    "When you don't understand how a script is working, it's recommendable to use Thonny or \"https://pythontutor.com/\"\n",
    "\n",
    "Press ctrl + \"}\" to comment (Latin american keyboard in visual studio code)"
   ]
  },
  {
   "cell_type": "code",
   "execution_count": null,
   "id": "9d03cf58",
   "metadata": {},
   "outputs": [],
   "source": [
    "name = input('What is yout name? ')\n",
    "# print(f'Hello ' + name + '!')"
   ]
  },
  {
   "cell_type": "markdown",
   "id": "9faf8a11",
   "metadata": {},
   "source": [
    "Len function, returns the length of string."
   ]
  },
  {
   "cell_type": "code",
   "execution_count": 9,
   "id": "9c40a0ad",
   "metadata": {},
   "outputs": [
    {
     "name": "stdout",
     "output_type": "stream",
     "text": [
      "6\n"
     ]
    }
   ],
   "source": [
    "number = len(name)\n",
    "print(number)"
   ]
  },
  {
   "cell_type": "code",
   "execution_count": 10,
   "id": "376a78c5",
   "metadata": {},
   "outputs": [
    {
     "name": "stdout",
     "output_type": "stream",
     "text": [
      "6\n"
     ]
    }
   ],
   "source": [
    "print(len(input('What is your name? ')))"
   ]
  },
  {
   "cell_type": "code",
   "execution_count": 11,
   "id": "2a6fb92c",
   "metadata": {},
   "outputs": [
    {
     "name": "stdout",
     "output_type": "stream",
     "text": [
      "6\n"
     ]
    }
   ],
   "source": [
    "username = input('What is your name? ')\n",
    "length = len(username)\n",
    "print(length)"
   ]
  }
 ],
 "metadata": {
  "kernelspec": {
   "display_name": "Python 3",
   "language": "python",
   "name": "python3"
  },
  "language_info": {
   "codemirror_mode": {
    "name": "ipython",
    "version": 3
   },
   "file_extension": ".py",
   "mimetype": "text/x-python",
   "name": "python",
   "nbconvert_exporter": "python",
   "pygments_lexer": "ipython3",
   "version": "3.13.2"
  }
 },
 "nbformat": 4,
 "nbformat_minor": 5
}
